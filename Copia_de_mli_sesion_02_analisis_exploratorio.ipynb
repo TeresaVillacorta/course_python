{
  "nbformat": 4,
  "nbformat_minor": 0,
  "metadata": {
    "kernelspec": {
      "display_name": "Python 3",
      "language": "python",
      "name": "python3"
    },
    "language_info": {
      "codemirror_mode": {
        "name": "ipython",
        "version": 3
      },
      "file_extension": ".py",
      "mimetype": "text/x-python",
      "name": "python",
      "nbconvert_exporter": "python",
      "pygments_lexer": "ipython3",
      "version": "3.7.4"
    },
    "colab": {
      "name": "Copia de mli-sesion-02-analisis-exploratorio.ipynb",
      "provenance": [],
      "include_colab_link": true
    }
  },
  "cells": [
    {
      "cell_type": "markdown",
      "metadata": {
        "id": "view-in-github",
        "colab_type": "text"
      },
      "source": [
        "<a href=\"https://colab.research.google.com/github/TeresaVillacorta/course_python/blob/main/Copia_de_mli_sesion_02_analisis_exploratorio.ipynb\" target=\"_parent\"><img src=\"https://colab.research.google.com/assets/colab-badge.svg\" alt=\"Open In Colab\"/></a>"
      ]
    },
    {
      "cell_type": "markdown",
      "metadata": {
        "id": "JAwl8w3_Z1qp"
      },
      "source": [
        "## Machine Learning Inmersion - Análisis exploratorio\n",
        "Manuel Montoya | Data Scientist"
      ]
    },
    {
      "cell_type": "markdown",
      "metadata": {
        "id": "XPCpPDznZ1q2"
      },
      "source": [
        "120 años de olimpiadas: https://www.kaggle.com/heesoo37/120-years-of-olympic-history-athletes-and-results"
      ]
    },
    {
      "cell_type": "code",
      "metadata": {
        "id": "TWgs_eqdZ1q3"
      },
      "source": [
        "import pandas\n",
        "import seaborn"
      ],
      "execution_count": 1,
      "outputs": []
    },
    {
      "cell_type": "code",
      "metadata": {
        "id": "GK7ZGa0YZ1q5"
      },
      "source": [
        "pandas.__version__"
      ],
      "execution_count": null,
      "outputs": []
    },
    {
      "cell_type": "code",
      "metadata": {
        "id": "yE8ix2AWZ1q5"
      },
      "source": [
        "seaborn.__version__"
      ],
      "execution_count": null,
      "outputs": []
    },
    {
      "cell_type": "markdown",
      "metadata": {
        "id": "Y19TYeATZ1q6"
      },
      "source": [
        "## Lectura de fuentes"
      ]
    },
    {
      "cell_type": "markdown",
      "metadata": {
        "id": "hLAhQn3uZ1q6"
      },
      "source": [
        "`read_csv`"
      ]
    },
    {
      "cell_type": "code",
      "metadata": {
        "colab": {
          "base_uri": "https://localhost:8080/",
          "height": 493
        },
        "id": "_6oRFKElaSy4",
        "outputId": "dd66142a-a150-4e02-a30d-2f954ed989c3"
      },
      "source": [
        "olympics = pandas.read_csv('olympics.csv')\r\n",
        "olympics.head()"
      ],
      "execution_count": 7,
      "outputs": [
        {
          "output_type": "error",
          "ename": "ParserError",
          "evalue": "ignored",
          "traceback": [
            "\u001b[0;31m---------------------------------------------------------------------------\u001b[0m",
            "\u001b[0;31mParserError\u001b[0m                               Traceback (most recent call last)",
            "\u001b[0;32m<ipython-input-7-e3d96b09125c>\u001b[0m in \u001b[0;36m<module>\u001b[0;34m()\u001b[0m\n\u001b[0;32m----> 1\u001b[0;31m \u001b[0molympics\u001b[0m \u001b[0;34m=\u001b[0m \u001b[0mpandas\u001b[0m\u001b[0;34m.\u001b[0m\u001b[0mread_csv\u001b[0m\u001b[0;34m(\u001b[0m\u001b[0;34m'olympics.csv'\u001b[0m\u001b[0;34m)\u001b[0m\u001b[0;34m\u001b[0m\u001b[0;34m\u001b[0m\u001b[0m\n\u001b[0m\u001b[1;32m      2\u001b[0m \u001b[0molympics\u001b[0m\u001b[0;34m.\u001b[0m\u001b[0mhead\u001b[0m\u001b[0;34m(\u001b[0m\u001b[0;34m)\u001b[0m\u001b[0;34m\u001b[0m\u001b[0;34m\u001b[0m\u001b[0m\n",
            "\u001b[0;32m/usr/local/lib/python3.6/dist-packages/pandas/io/parsers.py\u001b[0m in \u001b[0;36mread_csv\u001b[0;34m(filepath_or_buffer, sep, delimiter, header, names, index_col, usecols, squeeze, prefix, mangle_dupe_cols, dtype, engine, converters, true_values, false_values, skipinitialspace, skiprows, skipfooter, nrows, na_values, keep_default_na, na_filter, verbose, skip_blank_lines, parse_dates, infer_datetime_format, keep_date_col, date_parser, dayfirst, cache_dates, iterator, chunksize, compression, thousands, decimal, lineterminator, quotechar, quoting, doublequote, escapechar, comment, encoding, dialect, error_bad_lines, warn_bad_lines, delim_whitespace, low_memory, memory_map, float_precision)\u001b[0m\n\u001b[1;32m    686\u001b[0m     )\n\u001b[1;32m    687\u001b[0m \u001b[0;34m\u001b[0m\u001b[0m\n\u001b[0;32m--> 688\u001b[0;31m     \u001b[0;32mreturn\u001b[0m \u001b[0m_read\u001b[0m\u001b[0;34m(\u001b[0m\u001b[0mfilepath_or_buffer\u001b[0m\u001b[0;34m,\u001b[0m \u001b[0mkwds\u001b[0m\u001b[0;34m)\u001b[0m\u001b[0;34m\u001b[0m\u001b[0;34m\u001b[0m\u001b[0m\n\u001b[0m\u001b[1;32m    689\u001b[0m \u001b[0;34m\u001b[0m\u001b[0m\n\u001b[1;32m    690\u001b[0m \u001b[0;34m\u001b[0m\u001b[0m\n",
            "\u001b[0;32m/usr/local/lib/python3.6/dist-packages/pandas/io/parsers.py\u001b[0m in \u001b[0;36m_read\u001b[0;34m(filepath_or_buffer, kwds)\u001b[0m\n\u001b[1;32m    458\u001b[0m \u001b[0;34m\u001b[0m\u001b[0m\n\u001b[1;32m    459\u001b[0m     \u001b[0;32mtry\u001b[0m\u001b[0;34m:\u001b[0m\u001b[0;34m\u001b[0m\u001b[0;34m\u001b[0m\u001b[0m\n\u001b[0;32m--> 460\u001b[0;31m         \u001b[0mdata\u001b[0m \u001b[0;34m=\u001b[0m \u001b[0mparser\u001b[0m\u001b[0;34m.\u001b[0m\u001b[0mread\u001b[0m\u001b[0;34m(\u001b[0m\u001b[0mnrows\u001b[0m\u001b[0;34m)\u001b[0m\u001b[0;34m\u001b[0m\u001b[0;34m\u001b[0m\u001b[0m\n\u001b[0m\u001b[1;32m    461\u001b[0m     \u001b[0;32mfinally\u001b[0m\u001b[0;34m:\u001b[0m\u001b[0;34m\u001b[0m\u001b[0;34m\u001b[0m\u001b[0m\n\u001b[1;32m    462\u001b[0m         \u001b[0mparser\u001b[0m\u001b[0;34m.\u001b[0m\u001b[0mclose\u001b[0m\u001b[0;34m(\u001b[0m\u001b[0;34m)\u001b[0m\u001b[0;34m\u001b[0m\u001b[0;34m\u001b[0m\u001b[0m\n",
            "\u001b[0;32m/usr/local/lib/python3.6/dist-packages/pandas/io/parsers.py\u001b[0m in \u001b[0;36mread\u001b[0;34m(self, nrows)\u001b[0m\n\u001b[1;32m   1196\u001b[0m     \u001b[0;32mdef\u001b[0m \u001b[0mread\u001b[0m\u001b[0;34m(\u001b[0m\u001b[0mself\u001b[0m\u001b[0;34m,\u001b[0m \u001b[0mnrows\u001b[0m\u001b[0;34m=\u001b[0m\u001b[0;32mNone\u001b[0m\u001b[0;34m)\u001b[0m\u001b[0;34m:\u001b[0m\u001b[0;34m\u001b[0m\u001b[0;34m\u001b[0m\u001b[0m\n\u001b[1;32m   1197\u001b[0m         \u001b[0mnrows\u001b[0m \u001b[0;34m=\u001b[0m \u001b[0m_validate_integer\u001b[0m\u001b[0;34m(\u001b[0m\u001b[0;34m\"nrows\"\u001b[0m\u001b[0;34m,\u001b[0m \u001b[0mnrows\u001b[0m\u001b[0;34m)\u001b[0m\u001b[0;34m\u001b[0m\u001b[0;34m\u001b[0m\u001b[0m\n\u001b[0;32m-> 1198\u001b[0;31m         \u001b[0mret\u001b[0m \u001b[0;34m=\u001b[0m \u001b[0mself\u001b[0m\u001b[0;34m.\u001b[0m\u001b[0m_engine\u001b[0m\u001b[0;34m.\u001b[0m\u001b[0mread\u001b[0m\u001b[0;34m(\u001b[0m\u001b[0mnrows\u001b[0m\u001b[0;34m)\u001b[0m\u001b[0;34m\u001b[0m\u001b[0;34m\u001b[0m\u001b[0m\n\u001b[0m\u001b[1;32m   1199\u001b[0m \u001b[0;34m\u001b[0m\u001b[0m\n\u001b[1;32m   1200\u001b[0m         \u001b[0;31m# May alter columns / col_dict\u001b[0m\u001b[0;34m\u001b[0m\u001b[0;34m\u001b[0m\u001b[0;34m\u001b[0m\u001b[0m\n",
            "\u001b[0;32m/usr/local/lib/python3.6/dist-packages/pandas/io/parsers.py\u001b[0m in \u001b[0;36mread\u001b[0;34m(self, nrows)\u001b[0m\n\u001b[1;32m   2155\u001b[0m     \u001b[0;32mdef\u001b[0m \u001b[0mread\u001b[0m\u001b[0;34m(\u001b[0m\u001b[0mself\u001b[0m\u001b[0;34m,\u001b[0m \u001b[0mnrows\u001b[0m\u001b[0;34m=\u001b[0m\u001b[0;32mNone\u001b[0m\u001b[0;34m)\u001b[0m\u001b[0;34m:\u001b[0m\u001b[0;34m\u001b[0m\u001b[0;34m\u001b[0m\u001b[0m\n\u001b[1;32m   2156\u001b[0m         \u001b[0;32mtry\u001b[0m\u001b[0;34m:\u001b[0m\u001b[0;34m\u001b[0m\u001b[0;34m\u001b[0m\u001b[0m\n\u001b[0;32m-> 2157\u001b[0;31m             \u001b[0mdata\u001b[0m \u001b[0;34m=\u001b[0m \u001b[0mself\u001b[0m\u001b[0;34m.\u001b[0m\u001b[0m_reader\u001b[0m\u001b[0;34m.\u001b[0m\u001b[0mread\u001b[0m\u001b[0;34m(\u001b[0m\u001b[0mnrows\u001b[0m\u001b[0;34m)\u001b[0m\u001b[0;34m\u001b[0m\u001b[0;34m\u001b[0m\u001b[0m\n\u001b[0m\u001b[1;32m   2158\u001b[0m         \u001b[0;32mexcept\u001b[0m \u001b[0mStopIteration\u001b[0m\u001b[0;34m:\u001b[0m\u001b[0;34m\u001b[0m\u001b[0;34m\u001b[0m\u001b[0m\n\u001b[1;32m   2159\u001b[0m             \u001b[0;32mif\u001b[0m \u001b[0mself\u001b[0m\u001b[0;34m.\u001b[0m\u001b[0m_first_chunk\u001b[0m\u001b[0;34m:\u001b[0m\u001b[0;34m\u001b[0m\u001b[0;34m\u001b[0m\u001b[0m\n",
            "\u001b[0;32mpandas/_libs/parsers.pyx\u001b[0m in \u001b[0;36mpandas._libs.parsers.TextReader.read\u001b[0;34m()\u001b[0m\n",
            "\u001b[0;32mpandas/_libs/parsers.pyx\u001b[0m in \u001b[0;36mpandas._libs.parsers.TextReader._read_low_memory\u001b[0;34m()\u001b[0m\n",
            "\u001b[0;32mpandas/_libs/parsers.pyx\u001b[0m in \u001b[0;36mpandas._libs.parsers.TextReader._read_rows\u001b[0;34m()\u001b[0m\n",
            "\u001b[0;32mpandas/_libs/parsers.pyx\u001b[0m in \u001b[0;36mpandas._libs.parsers.TextReader._tokenize_rows\u001b[0;34m()\u001b[0m\n",
            "\u001b[0;32mpandas/_libs/parsers.pyx\u001b[0m in \u001b[0;36mpandas._libs.parsers.raise_parser_error\u001b[0;34m()\u001b[0m\n",
            "\u001b[0;31mParserError\u001b[0m: Error tokenizing data. C error: EOF inside string starting at row 164791"
          ]
        }
      ]
    },
    {
      "cell_type": "markdown",
      "metadata": {
        "id": "HhTkN_mMZ1q7"
      },
      "source": [
        "¿De qué juegos olímpicos tenemos información?"
      ]
    },
    {
      "cell_type": "markdown",
      "metadata": {
        "id": "SEVnMZMRZ1q7"
      },
      "source": [
        "`unique`"
      ]
    },
    {
      "cell_type": "code",
      "metadata": {
        "id": "Ggf5uFyjZ1q8"
      },
      "source": [
        ""
      ],
      "execution_count": null,
      "outputs": []
    },
    {
      "cell_type": "markdown",
      "metadata": {
        "id": "-YViMZkXZ1q8"
      },
      "source": [
        "ordenados"
      ]
    },
    {
      "cell_type": "code",
      "metadata": {
        "id": "MgDXGnoiZ1q9"
      },
      "source": [
        ""
      ],
      "execution_count": null,
      "outputs": []
    },
    {
      "cell_type": "markdown",
      "metadata": {
        "id": "6P1GYrTOZ1q9"
      },
      "source": [
        "`min max`"
      ]
    },
    {
      "cell_type": "markdown",
      "metadata": {
        "id": "4BEDGKYJZ1q-"
      },
      "source": [
        "## Medidas de centralidad"
      ]
    },
    {
      "cell_type": "markdown",
      "metadata": {
        "id": "P2ngpCrrZ1q-"
      },
      "source": [
        "Tipos de variables: `info`"
      ]
    },
    {
      "cell_type": "markdown",
      "metadata": {
        "id": "GGm32LAvZ1q-"
      },
      "source": [
        "`describe`"
      ]
    },
    {
      "cell_type": "markdown",
      "metadata": {
        "id": "XR7ZNKvkZ1q_"
      },
      "source": [
        "selección de columnas relevantes"
      ]
    },
    {
      "cell_type": "markdown",
      "metadata": {
        "id": "RBYlkpjjZ1rA"
      },
      "source": [
        "`mean, median, mode`"
      ]
    },
    {
      "cell_type": "markdown",
      "metadata": {
        "id": "HgT4aphCZ1rA"
      },
      "source": [
        "`percentiles`"
      ]
    },
    {
      "cell_type": "markdown",
      "metadata": {
        "id": "gC19Qo7hZ1rB"
      },
      "source": [
        "## Distribuciones"
      ]
    },
    {
      "cell_type": "markdown",
      "metadata": {
        "id": "UJfDxmqJZ1rB"
      },
      "source": [
        "Histogramas"
      ]
    },
    {
      "cell_type": "markdown",
      "metadata": {
        "id": "I3k_yxlsZ1rB"
      },
      "source": [
        "`seaborn.histplot`: https://seaborn.pydata.org/generated/seaborn.histplot.html#seaborn.histplot"
      ]
    },
    {
      "cell_type": "markdown",
      "metadata": {
        "id": "nA2_DLVYZ1rC"
      },
      "source": [
        "Distribución de la altura de atletas olímpicos"
      ]
    },
    {
      "cell_type": "markdown",
      "metadata": {
        "id": "DfVY6zCrZ1rC"
      },
      "source": [
        "¿Existe diferencias entre la distribución para deportes distintos?"
      ]
    },
    {
      "cell_type": "markdown",
      "metadata": {
        "id": "ploeAipjZ1rC"
      },
      "source": [
        "`hue`"
      ]
    },
    {
      "cell_type": "code",
      "metadata": {
        "id": "i2bCpdO6Z1rD"
      },
      "source": [
        "sports = ['Basketball', 'Gymnastics']\n",
        "\n"
      ],
      "execution_count": null,
      "outputs": []
    },
    {
      "cell_type": "markdown",
      "metadata": {
        "id": "c02MVu_xZ1rD"
      },
      "source": [
        "Diagramas de cajas"
      ]
    },
    {
      "cell_type": "code",
      "metadata": {
        "id": "n90jMp_dZ1rD"
      },
      "source": [
        ""
      ],
      "execution_count": null,
      "outputs": []
    },
    {
      "cell_type": "markdown",
      "metadata": {
        "id": "g1zmbkmfZ1rE"
      },
      "source": [
        "## Análisis bivariado"
      ]
    },
    {
      "cell_type": "markdown",
      "metadata": {
        "id": "xeN1iDQHZ1rE"
      },
      "source": [
        "`corr`"
      ]
    },
    {
      "cell_type": "markdown",
      "metadata": {
        "id": "x1m9QEC1Z1rE"
      },
      "source": [
        "`heatmap`"
      ]
    },
    {
      "cell_type": "markdown",
      "metadata": {
        "id": "kZH1eZeGZ1rF"
      },
      "source": [
        "Visualmente"
      ]
    },
    {
      "cell_type": "markdown",
      "metadata": {
        "id": "dOQ-7puWZ1rF"
      },
      "source": [
        "`pairplot`"
      ]
    },
    {
      "cell_type": "markdown",
      "metadata": {
        "id": "dpXgCzT4Z1rF"
      },
      "source": [
        "`pairplot with hue`"
      ]
    },
    {
      "cell_type": "markdown",
      "metadata": {
        "id": "H93bd6TtZ1rG"
      },
      "source": [
        "## Actividad propuesta"
      ]
    },
    {
      "cell_type": "markdown",
      "metadata": {
        "id": "zv0T9c_nZ1rG"
      },
      "source": [
        "Actividad 1: Voley Peruano"
      ]
    },
    {
      "cell_type": "markdown",
      "metadata": {
        "id": "zvlR49sFZ1rH"
      },
      "source": [
        "<img src='https://larepublica.pe/resizer/rEJ5xCE1ur8V4hUVo57eLkXYMzo=/1250x735/top/smart/cloudfront-us-east-1.images.arcpublishing.com/gruporepublica/KDBL4TF42NHYHA5DL53VIZHYJY.gif' width=500>"
      ]
    },
    {
      "cell_type": "markdown",
      "metadata": {
        "id": "81T-wvs4Z1rI"
      },
      "source": [
        "¿Existen medallistas olímpicos peruanos en el conjunto de datos de las olimpiadas?"
      ]
    },
    {
      "cell_type": "markdown",
      "metadata": {
        "id": "33GMHJ4aZ1rI"
      },
      "source": [
        "Encontrar a las medallistas olímpicas peruanas de Seúl 1988"
      ]
    },
    {
      "cell_type": "markdown",
      "metadata": {
        "id": "lwJa1LjqZ1rI"
      },
      "source": [
        "Actividad 2: Realizar un análisis exploratorio del dataset de los atletas mejor pagados de Forbes"
      ]
    },
    {
      "cell_type": "code",
      "metadata": {
        "id": "2d2iyNj1Z1rJ"
      },
      "source": [
        "forbes = pandas.read_csv('forbes-highest-paid.csv')\n",
        "forbes.head()"
      ],
      "execution_count": null,
      "outputs": []
    },
    {
      "cell_type": "markdown",
      "metadata": {
        "id": "3k2RP1ZVZ1rJ"
      },
      "source": [
        "¿De que años tenemos información?"
      ]
    },
    {
      "cell_type": "markdown",
      "metadata": {
        "id": "9QZ7G-BFZ1rJ"
      },
      "source": [
        "Distribuciones de ingresos totales"
      ]
    },
    {
      "cell_type": "markdown",
      "metadata": {
        "id": "JO62Hb9XZ1rJ"
      },
      "source": [
        "Distribuciones de ingresos para el año 2018. ¿Existen valores extremos? En caso existan, a qué evento está asociado este valor"
      ]
    },
    {
      "cell_type": "code",
      "metadata": {
        "id": "NmPb1TZRZ1rK"
      },
      "source": [
        ""
      ],
      "execution_count": null,
      "outputs": []
    }
  ]
}